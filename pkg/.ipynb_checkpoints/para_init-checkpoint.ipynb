{
 "cells": [
  {
   "cell_type": "code",
   "execution_count": 1,
   "id": "55988856-bc3f-4417-b34e-c397fa51c76a",
   "metadata": {
    "tags": []
   },
   "outputs": [],
   "source": [
    "def paraInit():\n",
    "    \"\"\"\n",
    "    parameters:\n",
    "    \n",
    "    \"\"\"\n",
    "    # import package\n",
    "    import numpy as np\n",
    "    \n",
    "    # \n",
    "    \n",
    "    "
   ]
  },
  {
   "cell_type": "code",
   "execution_count": null,
   "id": "108ab4d2-4d0e-494d-9cdd-0d9361708f57",
   "metadata": {},
   "outputs": [],
   "source": []
  }
 ],
 "metadata": {
  "kernelspec": {
   "display_name": "Python 3 (ipykernel)",
   "language": "python",
   "name": "python3"
  },
  "language_info": {
   "codemirror_mode": {
    "name": "ipython",
    "version": 3
   },
   "file_extension": ".py",
   "mimetype": "text/x-python",
   "name": "python",
   "nbconvert_exporter": "python",
   "pygments_lexer": "ipython3",
   "version": "3.10.9"
  }
 },
 "nbformat": 4,
 "nbformat_minor": 5
}
