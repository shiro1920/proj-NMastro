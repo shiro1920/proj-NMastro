{
 "cells": [
  {
   "cell_type": "code",
   "execution_count": 43,
   "id": "67342b3c-5bb0-4081-83e1-5e5e217bc3eb",
   "metadata": {
    "tags": []
   },
   "outputs": [],
   "source": [
    "def paraInit(M_halo):\n",
    "    \"\"\"\n",
    "    parameters:\n",
    "    \n",
    "    M_halo: Given Halo mass usually refer to M_200. It is used to estimate the steallar mass through\n",
    "    the Abundance match method (Xu+2023), adopting the Double-powerlaw model.\n",
    "\n",
    "    \"\"\"\n",
    "    # import package\n",
    "    import numpy as np\n",
    "    from astropy.io import ascii\n",
    "    from astropy.table import Table\n",
    "    \n",
    "    \n",
    "    # stellar mass\n",
    "    k = 10**10.303\n",
    "    M0 = 10**11.732\n",
    "    alpha = 0.299\n",
    "    beta = 1.917\n",
    "    \n",
    "    M_star = lambda x: 2*k/((x/M0)**(-alpha) + (x/M0)**(-beta))\n",
    "    log_Mstar = np.log10(M_star(M_halo))\n",
    "    log_Mstar_err = 0.23\n",
    "    \n",
    "    # gas (HI) mass\n",
    "    log_MHI = lambda log_Mstar: 0.51 * (log_Mstar-10) + 9.71\n",
    "    log_Mgas = log_MHI(log_Mstar)\n",
    "    log_Mgas_err = 0.51*log_Mstar_err\n",
    "    \n",
    "    # maximum rotational velocity \n",
    "    gamma = 3.98\n",
    "    f_A = np.log10(1.57)\n",
    "    f_A_err = 0.25/1.57/np.log(10)\n",
    "    M_d = np.log10(10**log_Mstar + 10**log_Mgas)\n",
    "    Md_err = 0.32\n",
    "    log_Vmax = lambda M_d: (M_d-f_A)/gamma\n",
    "    log_Vmax = log_Vmax(M_d)\n",
    "    log_Vmax_err = np.sqrt((f_A_err/gamma)**2+(0.32/(M_d-f_A))**2)\n",
    "    \n",
    "    # halo properties\n",
    "    G = 4.301*10**(-6)\n",
    "    H = 67.4*10**(-3)\n",
    "    M_200 = np.log10(M_halo)\n",
    "    c_halo = 9.60*(M_halo/(10**12/0.674))**(-0.075)\n",
    "    R_halo = (M_halo * G / (100 * H**2))**(1/3)\n",
    "    \n",
    "    # results\n",
    "    dT = dict()\n",
    "    dT[\"logM_200/Msun\"] = M_200\n",
    "    dT[\"R_200/kpc\"]     = R_halo\n",
    "    dT[\"c_200\"]         = c_halo\n",
    "    dT[\"logMstar/Msun\"] = log_Mstar\n",
    "    dT[\"logMstar_err\"]  = log_Mstar_err\n",
    "    dT[\"logMgas/Msun\"]  = log_Mgas\n",
    "    dT[\"logMgas_err\"]   = log_Mgas_err\n",
    "    dT[\"log_Vmax/km/s\"] = log_Vmax\n",
    "    dT[\"log_Vmax_err\"]  = log_Vmax_err\n",
    "    \n",
    "    return dT\n",
    "    "
   ]
  },
  {
   "cell_type": "code",
   "execution_count": 44,
   "id": "108ab4d2-4d0e-494d-9cdd-0d9361708f57",
   "metadata": {},
   "outputs": [
    {
     "data": {
      "text/plain": [
       "{'logM_200/Msun': 12.0,\n",
       " 'R_200/kpc': 211.5517147189376,\n",
       " 'c_200': 9.888302432701177,\n",
       " 'logMstar/Msun': 10.547933751244594,\n",
       " 'logMstar_err': 0.23,\n",
       " 'logMgas/Msun': 9.989446213134745,\n",
       " 'logMgas_err': 0.1173,\n",
       " 'log_Vmax/km/s': 2.6276420492247574,\n",
       " 'log_Vmax_err': 0.03518784734392261}"
      ]
     },
     "execution_count": 44,
     "metadata": {},
     "output_type": "execute_result"
    }
   ],
   "source": [
    "paraInit(10**12)"
   ]
  },
  {
   "cell_type": "code",
   "execution_count": 48,
   "id": "bed02388-16c2-481e-9810-9ac48f0a1846",
   "metadata": {
    "tags": []
   },
   "outputs": [],
   "source": [
    "import astropy.uncertainty as au"
   ]
  },
  {
   "cell_type": "code",
   "execution_count": null,
   "id": "becc7869-35b6-4113-abb3-a6ae4c5cbdf5",
   "metadata": {
    "tags": []
   },
   "outputs": [],
   "source": []
  },
  {
   "cell_type": "code",
   "execution_count": null,
   "id": "abcf2866-ab27-45d1-a3a9-84e735a8901d",
   "metadata": {
    "tags": []
   },
   "outputs": [],
   "source": []
  },
  {
   "cell_type": "code",
   "execution_count": null,
   "id": "de8d4b31-7c17-43d8-9d7d-f359a002fdf5",
   "metadata": {
    "tags": []
   },
   "outputs": [],
   "source": []
  },
  {
   "cell_type": "code",
   "execution_count": null,
   "id": "aed655d2-a939-4141-9350-54bb361850e5",
   "metadata": {},
   "outputs": [],
   "source": []
  }
 ],
 "metadata": {
  "kernelspec": {
   "display_name": "Python 3 (ipykernel)",
   "language": "python",
   "name": "python3"
  },
  "language_info": {
   "codemirror_mode": {
    "name": "ipython",
    "version": 3
   },
   "file_extension": ".py",
   "mimetype": "text/x-python",
   "name": "python",
   "nbconvert_exporter": "python",
   "pygments_lexer": "ipython3",
   "version": "3.10.9"
  }
 },
 "nbformat": 4,
 "nbformat_minor": 5
}
