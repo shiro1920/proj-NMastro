{
 "cells": [
  {
   "cell_type": "code",
   "execution_count": 1,
   "metadata": {
    "tags": []
   },
   "outputs": [],
   "source": [
    "import numpy as  np\n",
    "import time\n",
    "import matplotlib.pyplot as plt\n",
    "import matplotlib as mpl\n",
    "import warnings\n",
    "warnings.filterwarnings(\"ignore\")"
   ]
  },
  {
   "cell_type": "code",
   "execution_count": 2,
   "metadata": {
    "tags": []
   },
   "outputs": [],
   "source": [
    "x0 = 0\n",
    "x1 = 1\n",
    "t0 = 0\n",
    "t1 = 1\n",
    "tn = 1000 #num_t\n",
    "xm = 1000 #num_x\n",
    "c = 1"
   ]
  },
  {
   "cell_type": "code",
   "execution_count": 3,
   "metadata": {
    "tags": []
   },
   "outputs": [],
   "source": [
    "T = np.linspace(t0, t1, tn+1)\n",
    "X = np.linspace(x0, x1, xm+1)\n",
    "[x,t] = np.meshgrid(T,X)\n",
    "dx = (x1 - x0)/xm\n",
    "dt = (t1 - t0)/tn"
   ]
  },
  {
   "cell_type": "code",
   "execution_count": 28,
   "metadata": {
    "tags": []
   },
   "outputs": [
    {
     "data": {
      "text/plain": [
       "((1001, 1001), 1001, 1001)"
      ]
     },
     "execution_count": 28,
     "metadata": {},
     "output_type": "execute_result"
    }
   ],
   "source": [
    "x.shape,len(T),len(X)"
   ]
  },
  {
   "cell_type": "code",
   "execution_count": 4,
   "metadata": {
    "tags": []
   },
   "outputs": [
    {
     "data": {
      "text/plain": [
       "(0.001, 0.001)"
      ]
     },
     "execution_count": 4,
     "metadata": {},
     "output_type": "execute_result"
    }
   ],
   "source": [
    "dt,dx/c"
   ]
  },
  {
   "cell_type": "code",
   "execution_count": 17,
   "metadata": {
    "tags": []
   },
   "outputs": [
    {
     "data": {
      "text/plain": [
       "(0.0, 0.999)"
      ]
     },
     "execution_count": 17,
     "metadata": {},
     "output_type": "execute_result"
    }
   ],
   "source": [
    "np.arange(x0,x1,0.001)[0],np.arange(x0,x1,0.001)[-1]"
   ]
  },
  {
   "cell_type": "code",
   "execution_count": 22,
   "metadata": {
    "tags": []
   },
   "outputs": [],
   "source": [
    "def T_fn(x, t):\n",
    "    u = 0.8\n",
    "    D = 0.4\n",
    "    return np.exp(-(x - 5.5 - u * t) ** 2 / D) \\\n",
    "           + np.heaviside(x - 1 - u * t, 0.5) * np.heaviside(-(x - 2 - u * t), 0.5) \\\n",
    "           + np.minimum(np.maximum(x - 3 - u * t, 0), np.maximum(-(x - 4 - u * t), 0)) * 2\n"
   ]
  },
  {
   "cell_type": "code",
   "execution_count": 23,
   "metadata": {
    "tags": []
   },
   "outputs": [],
   "source": [
    "U_init = T_fn(X,0)\n",
    "U_left = T_fn(0,T)\n",
    "U_right= T_fn(1,T)"
   ]
  },
  {
   "cell_type": "code",
   "execution_count": 5,
   "metadata": {
    "tags": []
   },
   "outputs": [],
   "source": [
    "U = np.zeros(x.shape)\n",
    "U_init = np.sin(2*np.pi*X)  #初始条件 U(x,0) = f(x)\n",
    "#U_init = np.zeros(X.shape)\n",
    "#U_init[0:int(m/5)] = 1\n",
    "U_left = -np.sin(2*np.pi*c*T) #左边界 U(0,t) = f(t) 对于有限边界，左边界必须给定边界值，右边界不能给定边界值\n",
    "U_right= np.sin(2*np.pi*(X[-1]-c*T))# 右边界 U(x=1,t) 给定右边界属于过给定问题，但是在空间差分格式中保证给到合适的边界值\n",
    "#U_left  = np.zeros(T.shape)\n",
    "#U_right = np.ones(T.shape)\n",
    "#U_init[20:40] = 1\n",
    "\n",
    "#U_ana = np.sin(2*np.pi*(x-c*t)) # 对流方程其解为 u(x,t) = f(x-ct)\n"
   ]
  },
  {
   "cell_type": "code",
   "execution_count": 24,
   "metadata": {
    "tags": []
   },
   "outputs": [],
   "source": [
    "#up-wind\n",
    "U1 = np.zeros(x.shape)\n",
    "U1[:,0] = U_init #t=0 u(x,t=0) = f(x)\n",
    "U1[0,:] = U_left #x=0 u(x=0,t) = f(t)\n",
    "for n in range(len(T)-1):\n",
    "    U1[1:-1, n+1] = U1[1:-1, n] - c*dt/dx*(U1[1:-1, n] - U1[0:-2,n]) #u(i,n+1) = u(i,n) - c*(dt/dx)(u(i,n)-u(i-1,n)), (c>0)\n",
    "    U1[-1, n+1] = U1[-1, n] - c*dt/dx*(U1[-1, n] - U1[-2,n]) #边界处\n",
    "\n",
    "'''\n",
    "#leapfrog 有问题，实际上直接知道了下一个时刻的解\n",
    "U2 = np.zeros(np.shape(x))\n",
    "U2[:,0] = U_init\n",
    "U2[0,:] = U_left\n",
    "U2[:,1] = U_ana[:,1] # 不应该直接使用解析解给定值\n",
    "U2[-1,:] = U_ana[-1,:]\n",
    "for n in range(len(T)-2):\n",
    "    U2[1:-2, n+2] = U2[1:-2, n] - dt/dx*(U2[2:-1, n+1] - U2[0:-3,n+1])\n",
    "    U2[-2, n+2] = U2[-2, n] - dt/dx*(U2[-1, n+1] - U2[-3,n+1])\n",
    "'''\n",
    "\n",
    "#time forward, space centering\n",
    "U3 = np.zeros(np.shape(x))\n",
    "U3[:,0] = U_init\n",
    "U3[0,:] = U_left\n",
    "U3[-1,:] = U_right  #这一步默认已知边界处所有时刻的值,即给定了右边界，过给定问题\n",
    "for n in range(len(T)-1):\n",
    "    # u(i,n+1)=u(i,n)-(0.5*c*dt/dx)*(u(i+1,n)-u(i-1,n)\n",
    "    U3[1:-2, n+1] = U3[1:-2, n] - 0.5*c*dt/dx*(U3[2:-1, n] - U3[0:-3,n])     \n",
    "    U3[-2, n+1] = U3[-2, n] - 0.5*c*dt/dx*(U3[-1, n] - U3[-3,n])\n",
    "    \n",
    "#Lax-Friedrichs\n",
    "U4 = np.zeros(np.shape(x))\n",
    "U4[:,0] = U_init\n",
    "U4[0,:] = U_left\n",
    "U4[-1,:] = U_right\n",
    "for n in range(len(T)-1):\n",
    "    U4[1:-2, n+1] = 0.5*(U4[2:-1, n] + U4[0:-3,n]) - 0.5*c*dt/dx*(U4[2:-1, n] - U4[0:-3,n])\n",
    "    U4[-2, n+1] = 0.5*(U4[-1, n] + U4[-3,n]) - 0.5*c*dt/dx*(U4[-1, n] - U4[-3,n])\n",
    "\n",
    "#\n",
    "U5 = np.zeros(np.shape(x))\n",
    "U5[:,0] = U_init\n",
    "U5[0,:] = U_left\n",
    "U5[-1,:] = U_right\n",
    "for n in range(len(T)-1):\n",
    "    U5[1:-2, n+1] = U5[1:-2, n] - 0.5*dt/dx*(U5[2:-1, n] - U5[0:-3,n]) + 0.5*dt**2/dx**2*(U5[2:-1, n] -2*U5[1:-2, n] + U5[0:-3,n])\n",
    "    U5[-2, n+1] = U5[-2, n] - 0.5*dt/dx*(U5[-1, n] - U5[-3,n]) + 0.5*dt**2/dx**2*(U5[-1, n] -2*U5[-2, n] + U5[-3,n])\n"
   ]
  },
  {
   "cell_type": "code",
   "execution_count": 25,
   "metadata": {
    "tags": []
   },
   "outputs": [],
   "source": [
    "def Thomas(La, Mb, Uc, b):\n",
    "    \"\"\"\n",
    "    Arguments:\n",
    "        La -- [lower item for tri-diagonal matrix]\n",
    "        Mb -- [mian item for tri-diagonal matrix]\n",
    "        Uc -- [upper item for tri-diagonal matrix]\n",
    "        b -- [AX = b, where A is the tri-diagonal matrix]\n",
    "    \"\"\"\n",
    "    n = len(Mb)\n",
    "    Uc[0] = Uc[0] / Mb[0]\n",
    "    for i in range(1, n-1):\n",
    "        Uc[i] = Uc[i] / (Mb[i] - La[i - 1] * Uc[i - 1])\n",
    "    b[0] = b[0] / Mb[0]\n",
    "    for i in range(1, n):\n",
    "        b[i] = (b[i] - La[i-1]*b[i-1]) / (Mb[i] - La[i-1] * Uc[i-1])\n",
    "    ls = list(range(n-1))[::-1]\n",
    "    for i in ls:\n",
    "        b[i] = b[i] - Uc[i]*b[i+1]\n",
    "        \n",
    "    return np.array(b)"
   ]
  },
  {
   "cell_type": "code",
   "execution_count": 26,
   "metadata": {
    "tags": []
   },
   "outputs": [],
   "source": [
    "#fully implicit（全隐）\n",
    "U6 = np.zeros(np.shape(x))\n",
    "U6[:,0] = U_init\n",
    "U6[0,:] = U_left\n",
    "U6[-1,:]= U_right\n",
    "\n",
    "for n in range(len(T)-1):\n",
    "    a = -0.5*c*dt/dx*np.ones((len(X)-3))#给出矩阵三条对角线的值\n",
    "    b = np.ones((len(X)-2))\n",
    "    C = 0.5*c*dt/dx *np.ones((len(X)-3))\n",
    "    k = []\n",
    "    for i in range(len(X)-2):\n",
    "        k.append(U6[i+1,n])\n",
    "    \n",
    "    k[0]  += 0.5*c*dt/dx*U6[0,n+1]\n",
    "    k[-1] -= 0.5*c*dt/dx*U6[-1,n+1]#计算Ax=b中的b\n",
    "    \n",
    "    U6[1:-1,n+1] = Thomas(a,b,C,k)#求x\n",
    "\n",
    "\n",
    "#Crack-Nicholson\n",
    "U7 = np.zeros(np.shape(x))\n",
    "U7[: ,0]= U_init\n",
    "U7[0 ,:]= U_left\n",
    "U7[-1,:]= U_right\n",
    "\n",
    "for n in range(len(T)-1):\n",
    "    a = -0.25*c*dt/dx*np.ones((len(X)-3))\n",
    "    b = np.ones((len(X)-2))\n",
    "    C = 0.25*c*dt/dx*np.ones((len(X)-3))\n",
    "    k = []\n",
    "    for i in range(len(X)-2):\n",
    "        k.append(U7[i+1,n]-0.25*c*dt/dx*(U7[i+2,n]- U7[i,n]))\n",
    "    \n",
    "    k[0]  += 0.25*c*dt/dx*U7[ 0,n+1]\n",
    "    k[-1] -= 0.25*c*dt/dx*U7[-1,n+1]\n",
    "    U7[1:-1,n+1] = Thomas(a,b,C,k)\n",
    "\n",
    "    \n",
    "#跳点（本质是显格式）\n",
    "U8 = np.zeros(np.shape(x))\n",
    "U8[:,0] = U_init\n",
    "U8[0,:] = U_left\n",
    "U8[-1,:] = U_right\n",
    "\n",
    "for n in range(len(T)-1):\n",
    "    for i in range(len(X)-2):\n",
    "        if (n+i+1)%2 == 0:\n",
    "            U8[i+1,n+1] = U8[i+1,n] - 0.5*c*dt/dx*(U8[i+2,n]-U8[i,n])\n",
    "    for i in range(len(X)-2):\n",
    "        if (i+n+1)%2 != 0:\n",
    "            U8[i+1,n+1] = U8[i+1,n] - 0.5*c*dt/dx*(U8[i+2,n+1]-U8[i,n+1])\n",
    "\n",
    "            \n",
    "   "
   ]
  },
  {
   "cell_type": "code",
   "execution_count": 27,
   "metadata": {
    "tags": []
   },
   "outputs": [
    {
     "name": "stderr",
     "output_type": "stream",
     "text": [
      "MovieWriter ffmpeg unavailable; using Pillow instead.\n"
     ]
    },
    {
     "data": {
      "image/png": "[encoded data removed]",
      "text/plain": [
       "<Figure size 600x450 with 1 Axes>"
      ]
     },
     "metadata": {},
     "output_type": "display_data"
    }
   ],
   "source": [
    "from matplotlib import animation\n",
    "import matplotlib as mpl\n",
    "\n",
    "fig = plt.figure(figsize = (6,4.5),dpi=100)\n",
    "plt.grid(ls='--')\n",
    "ani1, = plt.plot(X, U1[:,0],color='red', label=\"Up Wind\")\n",
    "#ani2, = plt.plot(X, U2[:,0],color='green', label=\"leapfrog\")\n",
    "#ani3, = plt.plot(X, U3[:,0], color='m',label=\"time forward, space centering\")\n",
    "ani4, = plt.plot(X, U4[:,0], color='blue',label=\"Lax-Friedrichs\")\n",
    "ani5, = plt.plot(X, U5[:,0], color='darkorange',label=\"Lax-Wendroff\")\n",
    "                     \n",
    "plt.xlabel(\"X\", fontsize = 16)\n",
    "plt.ylabel(\"Amptitude\", fontsize = 16)\n",
    "plt.legend(loc='best',fontsize=8)\n",
    "\n",
    "text_ani = plt.text(0.1, 0, '',fontsize=12)\n",
    "plt.ylim(-1.2,1.2)\n",
    "def update(n):\n",
    "    ani1.set_data(X, U1[:,n])\n",
    "    #ani2.set_data(X, U2[:,n])\n",
    "    #ani3.set_data(X, U3[:,n])\n",
    "    ani4.set_data(X, U4[:,n])\n",
    "    ani5.set_data(X, U5[:,n])\n",
    "    t = n/10.\n",
    "    text_ani.set_text('t=%.3f'%t)\n",
    "    return [ani1,ani4,ani5,text_ani]\n",
    "\n",
    "ani = animation.FuncAnimation(fig=fig, func = update, frames = np.arange(0,n+1), interval = 20)\n",
    "ani.save('ini_sin.gif')\n",
    "plt.show()\n",
    "\n",
    "\n"
   ]
  },
  {
   "cell_type": "code",
   "execution_count": 12,
   "metadata": {},
   "outputs": [
    {
     "name": "stderr",
     "output_type": "stream",
     "text": [
      "MovieWriter ffmpeg unavailable; using Pillow instead.\n"
     ]
    },
    {
     "data": {
      "image/png": "[encoded data removed]",
      "text/plain": [
       "<Figure size 600x450 with 1 Axes>"
      ]
     },
     "metadata": {},
     "output_type": "display_data"
    }
   ],
   "source": [
    "from matplotlib import animation\n",
    "import matplotlib as mpl\n",
    "\n",
    "fig = plt.figure(figsize = (6,4.5),dpi=100)\n",
    "plt.grid(ls='--')\n",
    "ani6, = plt.plot(X, U6[:,0],color='red', label=\"full implicit\")\n",
    "#ani7, = plt.plot(X, U7[:,0], color='m',label=\"Crack-Nicholson\")\n",
    "ani8, = plt.plot(X, U8[:,0], color='blue',label=\"跳点\")\n",
    "                     \n",
    "plt.xlabel(\"X\", fontsize = 16)\n",
    "plt.ylabel(\"Amptitude\", fontsize = 16)\n",
    "plt.legend(loc='best',fontsize=8)\n",
    "\n",
    "text_ani = plt.text(0.1, 0, '',fontsize=12)\n",
    "plt.ylim(-1.2,1.2)\n",
    "def update(n):\n",
    "    ani6.set_data(X, U1[:,n])\n",
    "    #ani7.set_data(X, U3[:,n])\n",
    "    ani8.set_data(X, U4[:,n])\n",
    "    t = n/10.\n",
    "    text_ani.set_text('t=%.3f'%t)\n",
    "    return [ani6,ani8,text_ani]\n",
    "\n",
    "ani = animation.FuncAnimation(fig=fig, func = update, frames = np.arange(0,n+1), interval = 20)\n",
    "ani.save('ini_sin2.gif')\n",
    "plt.show()\n",
    "\n",
    "\n"
   ]
  },
  {
   "cell_type": "code",
   "execution_count": null,
   "metadata": {},
   "outputs": [],
   "source": []
  },
  {
   "cell_type": "code",
   "execution_count": null,
   "metadata": {},
   "outputs": [],
   "source": []
  }
 ],
 "metadata": {
  "kernelspec": {
   "display_name": "Python 3 (ipykernel)",
   "language": "python",
   "name": "python3"
  },
  "language_info": {
   "codemirror_mode": {
    "name": "ipython",
    "version": 3
   },
   "file_extension": ".py",
   "mimetype": "text/x-python",
   "name": "python",
   "nbconvert_exporter": "python",
   "pygments_lexer": "ipython3",
   "version": "3.10.9"
  }
 },
 "nbformat": 4,
 "nbformat_minor": 4
}
